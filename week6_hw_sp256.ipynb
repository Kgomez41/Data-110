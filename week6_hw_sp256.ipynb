{
  "nbformat": 4,
  "nbformat_minor": 0,
  "metadata": {
    "colab": {
      "private_outputs": true,
      "provenance": [],
      "include_colab_link": true
    },
    "kernelspec": {
      "name": "python3",
      "display_name": "Python 3"
    },
    "language_info": {
      "name": "python"
    }
  },
  "cells": [
    {
      "cell_type": "markdown",
      "metadata": {
        "id": "view-in-github",
        "colab_type": "text"
      },
      "source": [
        "<a href=\"https://colab.research.google.com/github/Kgomez41/Data-110/blob/main/week6_hw_sp256.ipynb\" target=\"_parent\"><img src=\"https://colab.research.google.com/assets/colab-badge.svg\" alt=\"Open In Colab\"/></a>"
      ]
    },
    {
      "cell_type": "markdown",
      "source": [
        "# Setting Up Your Environment and\n",
        "1. Install any necessary packages"
      ],
      "metadata": {
        "id": "HEqhCWnovnkz"
      }
    },
    {
      "cell_type": "code",
      "execution_count": null,
      "metadata": {
        "id": "5XzeNRjcvSgi"
      },
      "outputs": [],
      "source": [
        "import seaborn as sns\n",
        "import pandas as pd\n",
        "import numpy as np\n",
        "import matplotlib.pyplot as plt\n",
        "from matplotlib import cm\n",
        "\n"
      ]
    },
    {
      "cell_type": "markdown",
      "source": [
        "Part 2: Load and Explore the Dataset\n",
        "\n",
        "1. Load the Palmer Penguins dataset:\n",
        "\n",
        "url = \"https://raw.githubusercontent.com/mwaskom/seaborn-data/master/penguins.csv\"\n"
      ],
      "metadata": {
        "id": "5Vs2RF4Rv7Ad"
      }
    },
    {
      "cell_type": "code",
      "source": [
        "url = \"https://raw.githubusercontent.com/mwaskom/seaborn-data/master/penguins.csv\"\n",
        "penguins = pd.read_csv(url)\n"
      ],
      "metadata": {
        "id": "6QCHSOn0wImo"
      },
      "execution_count": null,
      "outputs": []
    },
    {
      "cell_type": "markdown",
      "source": [
        "2. The dataset contains missing values. Handle them by removing rows with NaN values:"
      ],
      "metadata": {
        "id": "zlBc4A29wJQB"
      }
    },
    {
      "cell_type": "code",
      "source": [
        "penguins = penguins.dropna()\n",
        "sns.set_style(\"whitegrid\")\n",
        "sns.set_palette([\"#ff69b4\"] * 10)  # Set all plots to pink"
      ],
      "metadata": {
        "id": "7tQEwznIwN92"
      },
      "execution_count": null,
      "outputs": []
    },
    {
      "cell_type": "markdown",
      "source": [
        "# Part 2: Data Visualization\n",
        "\n",
        "Task 1: Boxplot - Analyzing Body Mass by Species\n",
        "Create a boxplot to compare the distribution of penguin body mass across different species:"
      ],
      "metadata": {
        "id": "XxVuiEy8wOmO"
      }
    },
    {
      "cell_type": "markdown",
      "source": [],
      "metadata": {
        "id": "yB4k24eDv4H7"
      }
    },
    {
      "cell_type": "code",
      "source": [
        "plt.figure(figsize=(8, 6))\n",
        "sns.boxplot(data=penguins, x=\"species\", y=\"body_mass_g\", color=\"#ff69b4\")\n",
        "plt.title(\"Body Mass (g) by Species\")\n",
        "plt.show()"
      ],
      "metadata": {
        "id": "b7arlbJYwU35"
      },
      "execution_count": null,
      "outputs": []
    },
    {
      "cell_type": "markdown",
      "source": [
        "Interpretation: Based on the boxplot, answer the following:\n",
        "\n",
        "1. Which species has the largest median body mass?\n",
        "2. Which species has the widest range in body mass?\n",
        "3. Are there any outliers? If so, which species have them?"
      ],
      "metadata": {
        "id": "B2O0ZehfwV1w"
      }
    },
    {
      "cell_type": "markdown",
      "source": [
        "The Gentoo species have the largest body mass.\n",
        "The species with the widest range in body mass is the Gentoo aswell.\n",
        "The main outliers are the Adelie and the Chinstrap species."
      ],
      "metadata": {
        "id": "SxCnIUPNwdYV"
      }
    },
    {
      "cell_type": "markdown",
      "source": [
        "Task 2: Violin Plot - Flipper Length Distribution by Species\n",
        "Create a violin plot to analyze the distribution of flipper length across species."
      ],
      "metadata": {
        "id": "nUaripm8wf62"
      }
    },
    {
      "cell_type": "code",
      "source": [
        "#your code for task 2 is here\n",
        "plt.figure(figsize=(8, 6))\n",
        "sns.violinplot(data=penguins, x=\"species\", y=\"flipper_length_mm\", inner=\"quart\", color=\"#ff69b4\")\n",
        "plt.title(\"Flipper Length (mm) by Species\")\n",
        "plt.show()\n"
      ],
      "metadata": {
        "id": "LE_rn94TwjCO"
      },
      "execution_count": null,
      "outputs": []
    },
    {
      "cell_type": "markdown",
      "source": [
        "Interpretation: Answer the following:\n",
        "\n",
        "1. Which species has the most symmetrical distribution?\n",
        "2. Which species has the widest spread of flipper lengths?\n",
        "3. How do the quartiles (white lines in the plot) compare for each species?"
      ],
      "metadata": {
        "id": "bIUx4SW1wmPj"
      }
    },
    {
      "cell_type": "markdown",
      "source": [
        "The Chinstrap penguin species hs the most symmetrical distribution. The species with the widest spread of flipper lengths is the Gentoo penguins. Lastly the the quartiles indicate that the Gentoo penguins generally have longer flippers."
      ],
      "metadata": {
        "id": "SCqa0l4Nt3Ka"
      }
    },
    {
      "cell_type": "markdown",
      "source": [
        "**Task 3**: Ridgeline Plot - Distribution of Bill Length by Island\n",
        "Use a ridgeline plot to visualize the distribution of bill length across islands."
      ],
      "metadata": {
        "id": "QDL0M3lww2lq"
      }
    },
    {
      "cell_type": "code",
      "source": [
        "plt.figure(figsize=(10, 6))\n",
        "cmap = cm.get_cmap('Reds_r')\n",
        "for island in penguins[\"island\"].unique():\n",
        "    sns.kdeplot(penguins[penguins[\"island\"] == island][\"bill_length_mm\"],\n",
        "                shade=True, label=island, color=cmap(np.random.rand())) # Now np is defined and can be used\n",
        "plt.title(\"Density Plot of Bill Length by Island\")\n",
        "plt.xlabel(\"Bill Length (mm)\")\n",
        "plt.ylabel(\"Density\")\n",
        "plt.legend()\n",
        "plt.show()"
      ],
      "metadata": {
        "id": "4dngtByNw4nc"
      },
      "execution_count": null,
      "outputs": []
    },
    {
      "cell_type": "markdown",
      "source": [
        "Interpretation: Answer the following:\n",
        "1. Which island has the smallest range of bill lengths?\n",
        "2. Which island has the most uniform distribution?\n",
        "3. What differences do you notice between the islands in terms of bill length?"
      ],
      "metadata": {
        "id": "9ANVWrZTxCfb"
      }
    },
    {
      "cell_type": "markdown",
      "source": [
        "The Biscoe Island has the smallest range of bill lengths. The Dream Island has the most uniform disturbution. The differences I noticed is that the Torgerson Island shows the most variation in the bill length compared to the others."
      ],
      "metadata": {
        "id": "p7ERhcbyub1H"
      }
    },
    {
      "cell_type": "markdown",
      "source": [
        "upload your completed notebook (.ipynb) to Google Colab or GitHub.\n",
        "Submit the GitHub/Colab link in MS Teams under the assignment post."
      ],
      "metadata": {
        "id": "WclqVUSixJ1D"
      }
    }
  ]
}